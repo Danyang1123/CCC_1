{
 "cells": [
  {
   "cell_type": "code",
   "execution_count": 145,
   "metadata": {},
   "outputs": [],
   "source": [
    "import json\n",
    "data=json.load(open(\"2019-05-02-turn1.json\"))"
   ]
  },
  {
   "cell_type": "code",
   "execution_count": 146,
   "metadata": {},
   "outputs": [
    {
     "data": {
      "text/plain": [
       "{'created_at': 'Wed May 01 23:59:59 +0000 2019',\n",
       " 'id': 1123738872297467904,\n",
       " 'id_str': '1123738872297467904',\n",
       " 'text': 'Micro flizz guides data and media through tight spaces https://t.co/NWMgZDzuaj https://t.co/R45xjCuqPN',\n",
       " 'truncated': False,\n",
       " 'entities': {'hashtags': [],\n",
       "  'symbols': [],\n",
       "  'user_mentions': [],\n",
       "  'urls': [{'url': 'https://t.co/NWMgZDzuaj',\n",
       "    'expanded_url': 'https://is.gd/TO7y2E',\n",
       "    'display_url': 'is.gd/TO7y2E',\n",
       "    'indices': [55, 78]}],\n",
       "  'media': [{'id': 1123738869869023234,\n",
       "    'id_str': '1123738869869023234',\n",
       "    'indices': [79, 102],\n",
       "    'media_url': 'http://pbs.twimg.com/media/D5hSjF7XkAIDHOc.jpg',\n",
       "    'media_url_https': 'https://pbs.twimg.com/media/D5hSjF7XkAIDHOc.jpg',\n",
       "    'url': 'https://t.co/R45xjCuqPN',\n",
       "    'display_url': 'pic.twitter.com/R45xjCuqPN',\n",
       "    'expanded_url': 'https://twitter.com/ElectricCXNMag/status/1123738872297467904/photo/1',\n",
       "    'type': 'photo',\n",
       "    'sizes': {'thumb': {'w': 150, 'h': 150, 'resize': 'crop'},\n",
       "     'large': {'w': 600, 'h': 406, 'resize': 'fit'},\n",
       "     'small': {'w': 600, 'h': 406, 'resize': 'fit'},\n",
       "     'medium': {'w': 600, 'h': 406, 'resize': 'fit'}}}]},\n",
       " 'extended_entities': {'media': [{'id': 1123738869869023234,\n",
       "    'id_str': '1123738869869023234',\n",
       "    'indices': [79, 102],\n",
       "    'media_url': 'http://pbs.twimg.com/media/D5hSjF7XkAIDHOc.jpg',\n",
       "    'media_url_https': 'https://pbs.twimg.com/media/D5hSjF7XkAIDHOc.jpg',\n",
       "    'url': 'https://t.co/R45xjCuqPN',\n",
       "    'display_url': 'pic.twitter.com/R45xjCuqPN',\n",
       "    'expanded_url': 'https://twitter.com/ElectricCXNMag/status/1123738872297467904/photo/1',\n",
       "    'type': 'photo',\n",
       "    'sizes': {'thumb': {'w': 150, 'h': 150, 'resize': 'crop'},\n",
       "     'large': {'w': 600, 'h': 406, 'resize': 'fit'},\n",
       "     'small': {'w': 600, 'h': 406, 'resize': 'fit'},\n",
       "     'medium': {'w': 600, 'h': 406, 'resize': 'fit'}}}]},\n",
       " 'metadata': {'iso_language_code': 'en', 'result_type': 'recent'},\n",
       " 'source': '<a href=\"http://electricalconnection.com.au\" rel=\"nofollow\">EC Auto Post</a>',\n",
       " 'in_reply_to_status_id': None,\n",
       " 'in_reply_to_status_id_str': None,\n",
       " 'in_reply_to_user_id': None,\n",
       " 'in_reply_to_user_id_str': None,\n",
       " 'in_reply_to_screen_name': None,\n",
       " 'user': {'id': 961737115674468352,\n",
       "  'id_str': '961737115674468352',\n",
       "  'name': 'Electrical Connection',\n",
       "  'screen_name': 'ElectricCXNMag',\n",
       "  'location': 'Mulgrave, Melbourne',\n",
       "  'description': 'We are dedicated to helping Australian electrical industry professionals build their businesses and ensure that they are up-to-date within the industry',\n",
       "  'url': 'https://t.co/yy3uEzU1JB',\n",
       "  'entities': {'url': {'urls': [{'url': 'https://t.co/yy3uEzU1JB',\n",
       "      'expanded_url': 'http://electricalconnection.com.au/',\n",
       "      'display_url': 'electricalconnection.com.au',\n",
       "      'indices': [0, 23]}]},\n",
       "   'description': {'urls': []}},\n",
       "  'protected': False,\n",
       "  'followers_count': 27,\n",
       "  'friends_count': 51,\n",
       "  'listed_count': 1,\n",
       "  'created_at': 'Thu Feb 08 23:02:51 +0000 2018',\n",
       "  'favourites_count': 26,\n",
       "  'utc_offset': None,\n",
       "  'time_zone': None,\n",
       "  'geo_enabled': True,\n",
       "  'verified': False,\n",
       "  'statuses_count': 378,\n",
       "  'lang': 'en',\n",
       "  'contributors_enabled': False,\n",
       "  'is_translator': False,\n",
       "  'is_translation_enabled': False,\n",
       "  'profile_background_color': '000000',\n",
       "  'profile_background_image_url': 'http://abs.twimg.com/images/themes/theme1/bg.png',\n",
       "  'profile_background_image_url_https': 'https://abs.twimg.com/images/themes/theme1/bg.png',\n",
       "  'profile_background_tile': False,\n",
       "  'profile_image_url': 'http://pbs.twimg.com/profile_images/1057778643433218049/zKIYQi62_normal.jpg',\n",
       "  'profile_image_url_https': 'https://pbs.twimg.com/profile_images/1057778643433218049/zKIYQi62_normal.jpg',\n",
       "  'profile_banner_url': 'https://pbs.twimg.com/profile_banners/961737115674468352/1518131816',\n",
       "  'profile_link_color': 'FAB81E',\n",
       "  'profile_sidebar_border_color': '000000',\n",
       "  'profile_sidebar_fill_color': '000000',\n",
       "  'profile_text_color': '000000',\n",
       "  'profile_use_background_image': False,\n",
       "  'has_extended_profile': False,\n",
       "  'default_profile': False,\n",
       "  'default_profile_image': False,\n",
       "  'following': None,\n",
       "  'follow_request_sent': None,\n",
       "  'notifications': None,\n",
       "  'translator_type': 'none'},\n",
       " 'geo': None,\n",
       " 'coordinates': None,\n",
       " 'place': None,\n",
       " 'contributors': None,\n",
       " 'is_quote_status': False,\n",
       " 'retweet_count': 0,\n",
       " 'favorite_count': 0,\n",
       " 'favorited': False,\n",
       " 'retweeted': False,\n",
       " 'possibly_sensitive': False,\n",
       " 'lang': 'en'}"
      ]
     },
     "execution_count": 146,
     "metadata": {},
     "output_type": "execute_result"
    }
   ],
   "source": [
    "data[1]"
   ]
  },
  {
   "cell_type": "code",
   "execution_count": 47,
   "metadata": {},
   "outputs": [],
   "source": [
    "import json\n",
    "geo = json.load(open(\"vicgeo.json\")) #VIC Local Government Areas \n",
    "VIC_name=[]\n",
    "for area in geo['features']:\n",
    "    VIC_name.append(area['properties']['vic_lga__3'])"
   ]
  },
  {
   "cell_type": "code",
   "execution_count": 33,
   "metadata": {},
   "outputs": [
    {
     "data": {
      "text/plain": [
       "92"
      ]
     },
     "execution_count": 33,
     "metadata": {},
     "output_type": "execute_result"
    }
   ],
   "source": [
    "len(VIC_name)"
   ]
  },
  {
   "cell_type": "code",
   "execution_count": 48,
   "metadata": {},
   "outputs": [],
   "source": [
    "from vaderSentiment.vaderSentiment import SentimentIntensityAnalyzer\n",
    "analyser = SentimentIntensityAnalyzer()"
   ]
  },
  {
   "cell_type": "code",
   "execution_count": 49,
   "metadata": {},
   "outputs": [],
   "source": [
    "late_time={'23','00','01','02','03','04','05','06'}"
   ]
  },
  {
   "cell_type": "code",
   "execution_count": 50,
   "metadata": {},
   "outputs": [],
   "source": [
    "Gluttony_ralated_word=[\n",
    "'depravity',\n",
    "'dissipation',\n",
    "'excess',\n",
    "'intemperance',\n",
    "'orgy',\n",
    "'overeating',\n",
    "'satiation',\n",
    "'satiety',\n",
    "'spoiling',\n",
    "'overdrinking',\n",
    "'corpulent',\n",
    "'obese',\n",
    "'pudgy',\n",
    "'fat',\n",
    "'gross',\n",
    "'heavy',\n",
    "'outsize',\n",
    "'plump',\n",
    "'stout',\n",
    "'ample',\n",
    "'bulky',\n",
    "'fleshy',\n",
    "'hefty',\n",
    "'huge',\n",
    "'massive',\n",
    "'overfed',\n",
    "'overstuffed',\n",
    "'portly',\n",
    "'rotund',\n",
    "'upholstered',\n",
    "'weighty',\n",
    "'binge',\n",
    "'feast',\n",
    "'gluttonize',\n",
    "'gorge',\n",
    "'gourmandize',\n",
    "'overindulge',\n",
    "'scarf']"
   ]
  },
  {
   "cell_type": "code",
   "execution_count": 118,
   "metadata": {},
   "outputs": [],
   "source": [
    "from shapely.geometry import shape, Point\n",
    "def get_area_name1(geo, coordinate): \n",
    "    name=None\n",
    "    for area in geo['features']:  \n",
    "        if coordinate.within(shape(area ['geometry'])):\n",
    "            name = area['properties']['vic_lga__3']\n",
    "            break\n",
    "    return name #get area name in VIC by tweet coordinate\n",
    "\n",
    "def get_area_name2(placename):  \n",
    "    for item in VIC_name:\n",
    "        if item in placename.upper():\n",
    "            return item\n",
    "            break\n",
    "    return None #get area name in VIC by tweet place name\n"
   ]
  },
  {
   "cell_type": "code",
   "execution_count": 137,
   "metadata": {},
   "outputs": [],
   "source": [
    "import nltk\n",
    "def Identify_Gluttony(Gluttony_ralated_word,text):#if a tweet capture Gluttony\n",
    "    Gluttony= 0\n",
    "    tword = [word.lower() for word in nltk.word_tokenize(text)]\n",
    "    for term in Gluttony_ralated_word:\n",
    "         if term in tword :\n",
    "            Gluttony= 1 # Ture\n",
    "            break\n",
    "    return Gluttony\n",
    "def Identify_late(time,late_time):\n",
    "    if tweet['user']['created_at'][11:13] in late_time:\n",
    "            Late_time=1\n",
    "    else:\n",
    "            Late_time=0\n",
    "    return  Late_time     \n",
    "    "
   ]
  },
  {
   "cell_type": "code",
   "execution_count": 140,
   "metadata": {},
   "outputs": [],
   "source": [
    "#process a raw tweet to some characteristic label\n",
    "def process_tweet(tweet,geo,late_time,Gluttony_ralated_word): \n",
    "    name=None\n",
    "    if tweet['coordinates']!=None:\n",
    "        name=get_area_name1(geo, Point(tweet['coordinates']['coordinates']))\n",
    "    elif tweet['place']!=None:\n",
    "        name=get_area_name2(tweet['place']['name'])\n",
    "    else:\n",
    "        name=get_area_name2(tweet['user']['location'])\n",
    "    if name != None:\n",
    "        \n",
    "        Late_time=Identify_late(tweet['user']['created_at'][11:13],late_time)\n",
    "        # 1 when a tweet is in late time\n",
    "        sentiment_score = analyser.polarity_scores(tweet['text'])['compound']\n",
    "        #compound score is between -1 and 1\n",
    "        Gluttony=Identify_Gluttony(Gluttony_ralated_word,tweet['text'])\n",
    "        # 1 when a tweet contains gluttony words                 \n",
    "        processed_tweet = {'Vic_area': name,'Late_time':Late_time, \n",
    "               'Gluttony':Gluttony,'Sentiment':sentiment_score}\n",
    "        return processed_tweet\n",
    "    else:\n",
    "        return None"
   ]
  },
  {
   "cell_type": "code",
   "execution_count": 141,
   "metadata": {},
   "outputs": [],
   "source": [
    "result={}\n",
    "for area in VIC_name:\n",
    "    result[area]=[0,0,0,0,0.0]"
   ]
  },
  {
   "cell_type": "code",
   "execution_count": 144,
   "metadata": {},
   "outputs": [],
   "source": [
    "def analysis(processed_tweet,result):\n",
    "    area=processed_tweet['Vic_area']\n",
    "    result[area][0]+=1\n",
    "    result[area][1]+=processed_tweet['Late_time']\n",
    "    result[area][2]+=processed_tweet['Gluttony']\n",
    "    if processed_tweet['Sentiment']<0:#calculate the total number of negative tweets\n",
    "        result[area][3]+=1\n",
    "    result[area][4]+=processed_tweet['Sentiment']\n",
    "    "
   ]
  },
  {
   "cell_type": "code",
   "execution_count": null,
   "metadata": {},
   "outputs": [],
   "source": []
  }
 ],
 "metadata": {
  "kernelspec": {
   "display_name": "Python 3",
   "language": "python",
   "name": "python3"
  },
  "language_info": {
   "codemirror_mode": {
    "name": "ipython",
    "version": 3
   },
   "file_extension": ".py",
   "mimetype": "text/x-python",
   "name": "python",
   "nbconvert_exporter": "python",
   "pygments_lexer": "ipython3",
   "version": "3.6.5"
  }
 },
 "nbformat": 4,
 "nbformat_minor": 2
}
