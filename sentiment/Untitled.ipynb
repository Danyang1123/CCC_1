{
 "cells": [
  {
   "cell_type": "code",
   "execution_count": null,
   "metadata": {},
   "outputs": [],
   "source": [
    "import spacy\n",
    "# python -m spacy download en_core_web_md \n",
    "nlp = spacy.load('en_core_web_md')  \n",
    "from nltk.corpus import stopwords \n",
    "from nltk.tokenize import word_tokenize \n",
    "keyword_list=[\"pride\",\"greed\",\"lust\",\"envy\",\"gluttony\",\"wrath\",\"sloth\"]\n",
    "def similarity (text,keyword) :\n",
    "    stop_words = set(stopwords.words('english')) \n",
    "    word_tokens = word_tokenize(text) \n",
    "    # remove stopwords and non english tokens\n",
    "    filtered_sentence = [w.lower() for w in word_tokens if not w.lower() in stop_words and w.isalpha()] \n",
    "    score=0\n",
    "    key=nlp(keyword)\n",
    "    for word in filtered_sentence:\n",
    "        score += key.similarity(nlp(word))\n",
    "    ave_score = score/len(filtered_sentence)\n",
    "    return(ave_score)\n",
    "\n",
    "keyword_list=[\"pride\",\"greed\",\"lust\",\"envy\",\"gluttony\",\"wrath\",\"sloth\"]\n",
    "similarity(tweet['text'],keyword_list[0])"
   ]
  }
 ],
 "metadata": {
  "kernelspec": {
   "display_name": "Python 3",
   "language": "python",
   "name": "python3"
  },
  "language_info": {
   "codemirror_mode": {
    "name": "ipython",
    "version": 3
   },
   "file_extension": ".py",
   "mimetype": "text/x-python",
   "name": "python",
   "nbconvert_exporter": "python",
   "pygments_lexer": "ipython3",
   "version": "3.6.5"
  }
 },
 "nbformat": 4,
 "nbformat_minor": 2
}
